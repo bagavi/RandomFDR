{
 "cells": [
  {
   "cell_type": "code",
   "execution_count": 2,
   "metadata": {
    "collapsed": true
   },
   "outputs": [],
   "source": [
    "import math,csv, random\n",
    "import numpy as np\n",
    "import matplotlib.pyplot as plt\n",
    "from scipy.stats import norm\n",
    "from scipy.special import erf\n",
    "import matplotlib.mlab as mlab\n",
    "import scipy.integrate as integrate\n",
    "import matplotlib.patches as mpatches\n",
    "import pylab as P\n",
    "from scipy.optimize import minimize\n",
    "from statsmodels.sandbox.stats.multicomp import multipletests\n",
    "from collections import Counter\n",
    "from scipy import signal\n",
    "import imp\n",
    "from numpy import linalg as LA\n",
    "\n",
    "\n",
    "        \n",
    "%matplotlib inline\n",
    "plt.rcParams['figure.figsize'] = (10.0, 8.0) # set default size of plots\n",
    "plt.rcParams['image.interpolation'] = 'nearest'\n",
    "plt.rcParams['image.cmap'] = 'gray'"
   ]
  },
  {
   "cell_type": "code",
   "execution_count": 2,
   "metadata": {
    "collapsed": true
   },
   "outputs": [],
   "source": [
    "sigma = np.arange(0.1,100,1)\n",
    "n = 100\n",
    "so = 15\n",
    "m = sigma.shape[0]\n",
    "answer_1 = np.zeros_like(sigma, dtype='float')\n",
    "for i in range(m):\n",
    "    avg = 0\n",
    "    for j in range(10):\n",
    "        M = np.random.normal(scale=sigma[i],size=(n,so))\n",
    "        M_inv = np.linalg.pinv(M)\n",
    "        avg += np.trace(M_inv.T.dot(M_inv))\n",
    "#         print avg, sigma[i]\n",
    "    answer_1[i] = avg/10.0"
   ]
  },
  {
   "cell_type": "code",
   "execution_count": 3,
   "metadata": {
    "collapsed": false
   },
   "outputs": [],
   "source": [
    "n = 100\n",
    "so = 30\n",
    "m = sigma.shape[0]\n",
    "answer_2 = np.zeros_like(sigma, dtype='float')\n",
    "for i in range(m):\n",
    "    avg = 0\n",
    "    for j in range(10):\n",
    "        M = np.random.normal(scale=sigma[i],size=(n,so))\n",
    "        M_inv = np.linalg.pinv(M)\n",
    "        avg += np.trace(M_inv.T.dot(M_inv))\n",
    "#         print avg, sigma[i]\n",
    "    answer_2[i] = avg/10.0"
   ]
  },
  {
   "cell_type": "code",
   "execution_count": 4,
   "metadata": {
    "collapsed": true
   },
   "outputs": [],
   "source": [
    "n = 100\n",
    "so = 60\n",
    "m = sigma.shape[0]\n",
    "answer_3 = np.zeros_like(sigma, dtype='float')\n",
    "for i in range(m):\n",
    "    avg = 0\n",
    "    for j in range(10):\n",
    "        M = np.random.normal(scale=sigma[i],size=(n,so))\n",
    "        M_inv = np.linalg.pinv(M)\n",
    "        avg += np.trace(M_inv.T.dot(M_inv))\n",
    "#         print avg, sigma[i]\n",
    "    answer_3[i] = avg/10.0"
   ]
  },
  {
   "cell_type": "code",
   "execution_count": 5,
   "metadata": {
    "collapsed": false
   },
   "outputs": [
    {
     "data": {
      "image/png": "[encoded data removed]",
      "text/plain": [
       "<matplotlib.figure.Figure at 0x7f30300c6390>"
      ]
     },
     "metadata": {},
     "output_type": "display_data"
    }
   ],
   "source": [
    "plt.plot(sigma, answer_1*sigma*sigma, label=\"one\") #n = 100 , s0 = 15\n",
    "plt.plot(sigma, answer_2*sigma*sigma, label=\"two\", color='yellow') #n = 100 , s0 = 30\n",
    "plt.plot(sigma, answer_3*sigma*sigma, label=\"three\") #n = 100 , s0 = 60\n",
    "plt.legend()\n",
    "plt.show()\n"
   ]
  },
  {
   "cell_type": "code",
   "execution_count": 11,
   "metadata": {
    "collapsed": false
   },
   "outputs": [
    {
     "name": "stdout",
     "output_type": "stream",
     "text": [
      "2.43030408125\n",
      "3.54989215546\n"
     ]
    }
   ],
   "source": [
    "print np.mean((answer_2*sigma*sigma)/(answer_1*sigma*sigma))\n",
    "print np.mean((answer_3*sigma*sigma)/(answer_2*sigma*sigma))"
   ]
  },
  {
   "cell_type": "code",
   "execution_count": 3,
   "metadata": {
    "collapsed": false
   },
   "outputs": [],
   "source": [
    "a = np.array([])"
   ]
  },
  {
   "cell_type": "code",
   "execution_count": 8,
   "metadata": {
    "collapsed": false
   },
   "outputs": [
    {
     "name": "stdout",
     "output_type": "stream",
     "text": [
      "[ 1.  2.  3.  1.  2.  3.]\n"
     ]
    }
   ],
   "source": [
    "a = np.append(a,[1,2,3])\n",
    "print a"
   ]
  },
  {
   "cell_type": "code",
   "execution_count": null,
   "metadata": {
    "collapsed": true
   },
   "outputs": [],
   "source": []
  }
 ],
 "metadata": {
  "kernelspec": {
   "display_name": "Python 2",
   "language": "python",
   "name": "python2"
  },
  "language_info": {
   "codemirror_mode": {
    "name": "ipython",
    "version": 2
   },
   "file_extension": ".py",
   "mimetype": "text/x-python",
   "name": "python",
   "nbconvert_exporter": "python",
   "pygments_lexer": "ipython2",
   "version": "2.7.6"
  }
 },
 "nbformat": 4,
 "nbformat_minor": 0
}
